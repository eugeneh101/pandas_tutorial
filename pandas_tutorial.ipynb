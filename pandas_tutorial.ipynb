{
 "cells": [
  {
   "cell_type": "markdown",
   "id": "44c88e8f",
   "metadata": {},
   "source": [
    "`pandas` is named after \"panel data\", which is a term in econometrics for data that has multiple people over multiple periods of time. `pandas` is great for data manipulation: it's like a Excel (pivot table) and SQL (filter rows/create new columns/GROUP BY/JOIN) and Quicksight (make plots) all in 1 tool!"
   ]
  },
  {
   "cell_type": "markdown",
   "id": "6e92c6f2",
   "metadata": {},
   "source": [
    "`pandas` is built on `numpy`, which allows you to create matrixes. `numpy` is written in C, so it's fast. But the most important thing is `numpy` allows vectorized calculations. What that means is that you don't do for-loops in `numpy`/`pandas`. You do calculations on all pieces of data with the code. In real life, most of the time, you will use `pandas` and not actually deal with `numpy`.\n",
    "\n",
    "Geek note: vectorized calculations are much faster than for-loops in Python because a) `numpy` is running in C (instead of Python) and b) `numpy` is running under strict assumptions that allow optimization.  \n",
    "Another geek note: `numpy` does vectorization using SIMD: Single Instruction, Multiple Data"
   ]
  },
  {
   "cell_type": "code",
   "execution_count": 1,
   "id": "2f82ef42",
   "metadata": {},
   "outputs": [
    {
     "name": "stdout",
     "output_type": "stream",
     "text": [
      "[2, 3, 4]\n"
     ]
    }
   ],
   "source": [
    "# for loop: add 1\n",
    "lst = [1, 2, 3]\n",
    "print([ele + 1 for ele in lst])"
   ]
  },
  {
   "cell_type": "code",
   "execution_count": 2,
   "id": "a9a14f11",
   "metadata": {},
   "outputs": [
    {
     "name": "stdout",
     "output_type": "stream",
     "text": [
      "[2 3 4]\n"
     ]
    }
   ],
   "source": [
    "# vectorized calculation in numpy\n",
    "import numpy as np\n",
    "\n",
    "arr = np.array([1, 2, 3])\n",
    "print(arr + 1)"
   ]
  },
  {
   "cell_type": "code",
   "execution_count": 3,
   "id": "f9581495",
   "metadata": {},
   "outputs": [
    {
     "name": "stdout",
     "output_type": "stream",
     "text": [
      "0    2\n",
      "1    3\n",
      "2    4\n",
      "dtype: int64\n"
     ]
    }
   ],
   "source": [
    "# vectorized calculation in pandas\n",
    "import pandas as pd\n",
    "\n",
    "ser = pd.Series([1, 2, 3])\n",
    "print(ser.apply(lambda ele: ele + 1))"
   ]
  },
  {
   "cell_type": "markdown",
   "id": "2ac2ea25",
   "metadata": {},
   "source": [
    "### Filtering data with numpy and pandas looks familiar."
   ]
  },
  {
   "cell_type": "code",
   "execution_count": 4,
   "id": "602c4f15",
   "metadata": {},
   "outputs": [
    {
     "data": {
      "text/plain": [
       "array([[1, 2, 3],\n",
       "       [4, 5, 6],\n",
       "       [7, 8, 9]])"
      ]
     },
     "execution_count": 4,
     "metadata": {},
     "output_type": "execute_result"
    }
   ],
   "source": [
    "mat = np.array([\n",
    "    [1, 2, 3],\n",
    "    [4, 5, 6],\n",
    "    [7, 8, 9]\n",
    "])\n",
    "mat"
   ]
  },
  {
   "cell_type": "code",
   "execution_count": 5,
   "id": "2229215e",
   "metadata": {},
   "outputs": [
    {
     "data": {
      "text/plain": [
       "array([[4, 5, 6],\n",
       "       [7, 8, 9]])"
      ]
     },
     "execution_count": 5,
     "metadata": {},
     "output_type": "execute_result"
    }
   ],
   "source": [
    "mat[1:]  # rows 1 + 2"
   ]
  },
  {
   "cell_type": "code",
   "execution_count": 6,
   "id": "6154bf8b",
   "metadata": {},
   "outputs": [
    {
     "data": {
      "text/plain": [
       "array([[2, 3],\n",
       "       [5, 6],\n",
       "       [8, 9]])"
      ]
     },
     "execution_count": 6,
     "metadata": {},
     "output_type": "execute_result"
    }
   ],
   "source": [
    "mat[:, 1:]  # columns 1 + 2"
   ]
  },
  {
   "cell_type": "code",
   "execution_count": 7,
   "id": "4b791390",
   "metadata": {},
   "outputs": [
    {
     "data": {
      "text/plain": [
       "array([[5, 6],\n",
       "       [8, 9]])"
      ]
     },
     "execution_count": 7,
     "metadata": {},
     "output_type": "execute_result"
    }
   ],
   "source": [
    "mat[1:, 1:]  # slicing data more specifically"
   ]
  },
  {
   "cell_type": "code",
   "execution_count": 8,
   "id": "8412200a",
   "metadata": {},
   "outputs": [
    {
     "data": {
      "text/html": [
       "<div>\n",
       "<style scoped>\n",
       "    .dataframe tbody tr th:only-of-type {\n",
       "        vertical-align: middle;\n",
       "    }\n",
       "\n",
       "    .dataframe tbody tr th {\n",
       "        vertical-align: top;\n",
       "    }\n",
       "\n",
       "    .dataframe thead th {\n",
       "        text-align: right;\n",
       "    }\n",
       "</style>\n",
       "<table border=\"1\" class=\"dataframe\">\n",
       "  <thead>\n",
       "    <tr style=\"text-align: right;\">\n",
       "      <th></th>\n",
       "      <th>name</th>\n",
       "      <th>age</th>\n",
       "      <th>gender</th>\n",
       "    </tr>\n",
       "  </thead>\n",
       "  <tbody>\n",
       "    <tr>\n",
       "      <th>0</th>\n",
       "      <td>Alice</td>\n",
       "      <td>20</td>\n",
       "      <td>F</td>\n",
       "    </tr>\n",
       "    <tr>\n",
       "      <th>1</th>\n",
       "      <td>Bob</td>\n",
       "      <td>30</td>\n",
       "      <td>M</td>\n",
       "    </tr>\n",
       "    <tr>\n",
       "      <th>2</th>\n",
       "      <td>Carol</td>\n",
       "      <td>40</td>\n",
       "      <td>F</td>\n",
       "    </tr>\n",
       "  </tbody>\n",
       "</table>\n",
       "</div>"
      ],
      "text/plain": [
       "    name  age gender\n",
       "0  Alice   20      F\n",
       "1    Bob   30      M\n",
       "2  Carol   40      F"
      ]
     },
     "execution_count": 8,
     "metadata": {},
     "output_type": "execute_result"
    }
   ],
   "source": [
    "df_person = pd.DataFrame({\"name\": [\"Alice\", \"Bob\", \"Carol\"], \"age\": [20, 30, 40], \"gender\": [\"F\", \"M\", \"F\"]})\n",
    "df_person"
   ]
  },
  {
   "cell_type": "code",
   "execution_count": 9,
   "id": "03f331ca",
   "metadata": {},
   "outputs": [
    {
     "data": {
      "text/html": [
       "<div>\n",
       "<style scoped>\n",
       "    .dataframe tbody tr th:only-of-type {\n",
       "        vertical-align: middle;\n",
       "    }\n",
       "\n",
       "    .dataframe tbody tr th {\n",
       "        vertical-align: top;\n",
       "    }\n",
       "\n",
       "    .dataframe thead th {\n",
       "        text-align: right;\n",
       "    }\n",
       "</style>\n",
       "<table border=\"1\" class=\"dataframe\">\n",
       "  <thead>\n",
       "    <tr style=\"text-align: right;\">\n",
       "      <th></th>\n",
       "      <th>name</th>\n",
       "      <th>age</th>\n",
       "      <th>gender</th>\n",
       "    </tr>\n",
       "  </thead>\n",
       "  <tbody>\n",
       "    <tr>\n",
       "      <th>1</th>\n",
       "      <td>Bob</td>\n",
       "      <td>30</td>\n",
       "      <td>M</td>\n",
       "    </tr>\n",
       "    <tr>\n",
       "      <th>2</th>\n",
       "      <td>Carol</td>\n",
       "      <td>40</td>\n",
       "      <td>F</td>\n",
       "    </tr>\n",
       "  </tbody>\n",
       "</table>\n",
       "</div>"
      ],
      "text/plain": [
       "    name  age gender\n",
       "1    Bob   30      M\n",
       "2  Carol   40      F"
      ]
     },
     "execution_count": 9,
     "metadata": {},
     "output_type": "execute_result"
    }
   ],
   "source": [
    "df_person[1:]  # rows 1 + 2"
   ]
  },
  {
   "cell_type": "code",
   "execution_count": 10,
   "id": "a9e36549",
   "metadata": {},
   "outputs": [
    {
     "data": {
      "text/html": [
       "<div>\n",
       "<style scoped>\n",
       "    .dataframe tbody tr th:only-of-type {\n",
       "        vertical-align: middle;\n",
       "    }\n",
       "\n",
       "    .dataframe tbody tr th {\n",
       "        vertical-align: top;\n",
       "    }\n",
       "\n",
       "    .dataframe thead th {\n",
       "        text-align: right;\n",
       "    }\n",
       "</style>\n",
       "<table border=\"1\" class=\"dataframe\">\n",
       "  <thead>\n",
       "    <tr style=\"text-align: right;\">\n",
       "      <th></th>\n",
       "      <th>age</th>\n",
       "      <th>gender</th>\n",
       "    </tr>\n",
       "  </thead>\n",
       "  <tbody>\n",
       "    <tr>\n",
       "      <th>0</th>\n",
       "      <td>20</td>\n",
       "      <td>F</td>\n",
       "    </tr>\n",
       "    <tr>\n",
       "      <th>1</th>\n",
       "      <td>30</td>\n",
       "      <td>M</td>\n",
       "    </tr>\n",
       "    <tr>\n",
       "      <th>2</th>\n",
       "      <td>40</td>\n",
       "      <td>F</td>\n",
       "    </tr>\n",
       "  </tbody>\n",
       "</table>\n",
       "</div>"
      ],
      "text/plain": [
       "   age gender\n",
       "0   20      F\n",
       "1   30      M\n",
       "2   40      F"
      ]
     },
     "execution_count": 10,
     "metadata": {},
     "output_type": "execute_result"
    }
   ],
   "source": [
    "df_person.iloc[:, 1:]  # columns 1 + 2"
   ]
  },
  {
   "cell_type": "code",
   "execution_count": 11,
   "id": "60bc78dd",
   "metadata": {},
   "outputs": [
    {
     "data": {
      "text/html": [
       "<div>\n",
       "<style scoped>\n",
       "    .dataframe tbody tr th:only-of-type {\n",
       "        vertical-align: middle;\n",
       "    }\n",
       "\n",
       "    .dataframe tbody tr th {\n",
       "        vertical-align: top;\n",
       "    }\n",
       "\n",
       "    .dataframe thead th {\n",
       "        text-align: right;\n",
       "    }\n",
       "</style>\n",
       "<table border=\"1\" class=\"dataframe\">\n",
       "  <thead>\n",
       "    <tr style=\"text-align: right;\">\n",
       "      <th></th>\n",
       "      <th>age</th>\n",
       "      <th>gender</th>\n",
       "    </tr>\n",
       "  </thead>\n",
       "  <tbody>\n",
       "    <tr>\n",
       "      <th>1</th>\n",
       "      <td>30</td>\n",
       "      <td>M</td>\n",
       "    </tr>\n",
       "    <tr>\n",
       "      <th>2</th>\n",
       "      <td>40</td>\n",
       "      <td>F</td>\n",
       "    </tr>\n",
       "  </tbody>\n",
       "</table>\n",
       "</div>"
      ],
      "text/plain": [
       "   age gender\n",
       "1   30      M\n",
       "2   40      F"
      ]
     },
     "execution_count": 11,
     "metadata": {},
     "output_type": "execute_result"
    }
   ],
   "source": [
    "df_person.iloc[1:, 1:]  # slicing data more specifically"
   ]
  },
  {
   "cell_type": "code",
   "execution_count": 12,
   "id": "5d794228",
   "metadata": {},
   "outputs": [
    {
     "data": {
      "text/plain": [
       "0    20\n",
       "1    30\n",
       "2    40\n",
       "Name: age, dtype: int64"
      ]
     },
     "execution_count": 12,
     "metadata": {},
     "output_type": "execute_result"
    }
   ],
   "source": [
    "df_person.loc[:, \"age\"]  # use `loc` to mention column by name and `iloc` to get column by index"
   ]
  },
  {
   "cell_type": "code",
   "execution_count": 13,
   "id": "5b6cadc5",
   "metadata": {},
   "outputs": [
    {
     "data": {
      "text/plain": [
       "0    20\n",
       "1    30\n",
       "2    40\n",
       "Name: age, dtype: int64"
      ]
     },
     "execution_count": 13,
     "metadata": {},
     "output_type": "execute_result"
    }
   ],
   "source": [
    "df_person[\"age\"]  # 1 bracket gets the pandas Series, only works for 1 column"
   ]
  },
  {
   "cell_type": "code",
   "execution_count": 14,
   "id": "fe8eccc8",
   "metadata": {},
   "outputs": [
    {
     "data": {
      "text/html": [
       "<div>\n",
       "<style scoped>\n",
       "    .dataframe tbody tr th:only-of-type {\n",
       "        vertical-align: middle;\n",
       "    }\n",
       "\n",
       "    .dataframe tbody tr th {\n",
       "        vertical-align: top;\n",
       "    }\n",
       "\n",
       "    .dataframe thead th {\n",
       "        text-align: right;\n",
       "    }\n",
       "</style>\n",
       "<table border=\"1\" class=\"dataframe\">\n",
       "  <thead>\n",
       "    <tr style=\"text-align: right;\">\n",
       "      <th></th>\n",
       "      <th>age</th>\n",
       "    </tr>\n",
       "  </thead>\n",
       "  <tbody>\n",
       "    <tr>\n",
       "      <th>0</th>\n",
       "      <td>20</td>\n",
       "    </tr>\n",
       "    <tr>\n",
       "      <th>1</th>\n",
       "      <td>30</td>\n",
       "    </tr>\n",
       "    <tr>\n",
       "      <th>2</th>\n",
       "      <td>40</td>\n",
       "    </tr>\n",
       "  </tbody>\n",
       "</table>\n",
       "</div>"
      ],
      "text/plain": [
       "   age\n",
       "0   20\n",
       "1   30\n",
       "2   40"
      ]
     },
     "execution_count": 14,
     "metadata": {},
     "output_type": "execute_result"
    }
   ],
   "source": [
    "df_person[[\"age\"]]  # 2 brackets get the pandas DataFrame, works for 1 or more columns"
   ]
  },
  {
   "cell_type": "code",
   "execution_count": null,
   "id": "069fc9bc",
   "metadata": {},
   "outputs": [],
   "source": []
  },
  {
   "cell_type": "markdown",
   "id": "14d5ab29",
   "metadata": {},
   "source": [
    "### pandas has 2 main classes: DataFrame and Series"
   ]
  },
  {
   "cell_type": "code",
   "execution_count": 15,
   "id": "ae3a037a",
   "metadata": {},
   "outputs": [
    {
     "data": {
      "text/html": [
       "<div>\n",
       "<style scoped>\n",
       "    .dataframe tbody tr th:only-of-type {\n",
       "        vertical-align: middle;\n",
       "    }\n",
       "\n",
       "    .dataframe tbody tr th {\n",
       "        vertical-align: top;\n",
       "    }\n",
       "\n",
       "    .dataframe thead th {\n",
       "        text-align: right;\n",
       "    }\n",
       "</style>\n",
       "<table border=\"1\" class=\"dataframe\">\n",
       "  <thead>\n",
       "    <tr style=\"text-align: right;\">\n",
       "      <th></th>\n",
       "      <th>name</th>\n",
       "      <th>age</th>\n",
       "      <th>gender</th>\n",
       "    </tr>\n",
       "  </thead>\n",
       "  <tbody>\n",
       "    <tr>\n",
       "      <th>0</th>\n",
       "      <td>Alice</td>\n",
       "      <td>20</td>\n",
       "      <td>F</td>\n",
       "    </tr>\n",
       "    <tr>\n",
       "      <th>1</th>\n",
       "      <td>Bob</td>\n",
       "      <td>30</td>\n",
       "      <td>M</td>\n",
       "    </tr>\n",
       "    <tr>\n",
       "      <th>2</th>\n",
       "      <td>Carol</td>\n",
       "      <td>40</td>\n",
       "      <td>F</td>\n",
       "    </tr>\n",
       "  </tbody>\n",
       "</table>\n",
       "</div>"
      ],
      "text/plain": [
       "    name  age gender\n",
       "0  Alice   20      F\n",
       "1    Bob   30      M\n",
       "2  Carol   40      F"
      ]
     },
     "execution_count": 15,
     "metadata": {},
     "output_type": "execute_result"
    }
   ],
   "source": [
    "df_person  # DataFrame: 2 dimensional data"
   ]
  },
  {
   "cell_type": "code",
   "execution_count": 16,
   "id": "82029171",
   "metadata": {},
   "outputs": [
    {
     "data": {
      "text/plain": [
       "0    Alice\n",
       "1      Bob\n",
       "2    Carol\n",
       "Name: name, dtype: object"
      ]
     },
     "execution_count": 16,
     "metadata": {},
     "output_type": "execute_result"
    }
   ],
   "source": [
    "df_person[\"name\"]  # Series: 1 dimensional data"
   ]
  },
  {
   "cell_type": "markdown",
   "id": "dacff83f",
   "metadata": {},
   "source": [
    "### Some info about the dataframe"
   ]
  },
  {
   "cell_type": "code",
   "execution_count": 17,
   "id": "9f21fa96",
   "metadata": {},
   "outputs": [
    {
     "data": {
      "text/plain": [
       "name      object\n",
       "age        int64\n",
       "gender    object\n",
       "dtype: object"
      ]
     },
     "execution_count": 17,
     "metadata": {},
     "output_type": "execute_result"
    }
   ],
   "source": [
    "df_person.dtypes  # object means string"
   ]
  },
  {
   "cell_type": "code",
   "execution_count": 18,
   "id": "ebbceb9a",
   "metadata": {},
   "outputs": [
    {
     "name": "stdout",
     "output_type": "stream",
     "text": [
      "<class 'pandas.core.frame.DataFrame'>\n",
      "RangeIndex: 3 entries, 0 to 2\n",
      "Data columns (total 3 columns):\n",
      " #   Column  Non-Null Count  Dtype \n",
      "---  ------  --------------  ----- \n",
      " 0   name    3 non-null      object\n",
      " 1   age     3 non-null      int64 \n",
      " 2   gender  3 non-null      object\n",
      "dtypes: int64(1), object(2)\n",
      "memory usage: 200.0+ bytes\n"
     ]
    }
   ],
   "source": [
    "df_person.info()"
   ]
  },
  {
   "cell_type": "code",
   "execution_count": 19,
   "id": "1d110510",
   "metadata": {},
   "outputs": [
    {
     "data": {
      "text/html": [
       "<div>\n",
       "<style scoped>\n",
       "    .dataframe tbody tr th:only-of-type {\n",
       "        vertical-align: middle;\n",
       "    }\n",
       "\n",
       "    .dataframe tbody tr th {\n",
       "        vertical-align: top;\n",
       "    }\n",
       "\n",
       "    .dataframe thead th {\n",
       "        text-align: right;\n",
       "    }\n",
       "</style>\n",
       "<table border=\"1\" class=\"dataframe\">\n",
       "  <thead>\n",
       "    <tr style=\"text-align: right;\">\n",
       "      <th></th>\n",
       "      <th>age</th>\n",
       "    </tr>\n",
       "  </thead>\n",
       "  <tbody>\n",
       "    <tr>\n",
       "      <th>count</th>\n",
       "      <td>3.0</td>\n",
       "    </tr>\n",
       "    <tr>\n",
       "      <th>mean</th>\n",
       "      <td>30.0</td>\n",
       "    </tr>\n",
       "    <tr>\n",
       "      <th>std</th>\n",
       "      <td>10.0</td>\n",
       "    </tr>\n",
       "    <tr>\n",
       "      <th>min</th>\n",
       "      <td>20.0</td>\n",
       "    </tr>\n",
       "    <tr>\n",
       "      <th>25%</th>\n",
       "      <td>25.0</td>\n",
       "    </tr>\n",
       "    <tr>\n",
       "      <th>50%</th>\n",
       "      <td>30.0</td>\n",
       "    </tr>\n",
       "    <tr>\n",
       "      <th>75%</th>\n",
       "      <td>35.0</td>\n",
       "    </tr>\n",
       "    <tr>\n",
       "      <th>max</th>\n",
       "      <td>40.0</td>\n",
       "    </tr>\n",
       "  </tbody>\n",
       "</table>\n",
       "</div>"
      ],
      "text/plain": [
       "        age\n",
       "count   3.0\n",
       "mean   30.0\n",
       "std    10.0\n",
       "min    20.0\n",
       "25%    25.0\n",
       "50%    30.0\n",
       "75%    35.0\n",
       "max    40.0"
      ]
     },
     "execution_count": 19,
     "metadata": {},
     "output_type": "execute_result"
    }
   ],
   "source": [
    "df_person.describe()"
   ]
  },
  {
   "cell_type": "markdown",
   "id": "75ef73cc",
   "metadata": {},
   "source": [
    "### Most of the time, you use pandas for math but it has support for string columns"
   ]
  },
  {
   "cell_type": "code",
   "execution_count": 20,
   "id": "3bf05315",
   "metadata": {},
   "outputs": [
    {
     "data": {
      "text/plain": [
       "0    ALICE\n",
       "1      BOB\n",
       "2    CAROL\n",
       "Name: name, dtype: object"
      ]
     },
     "execution_count": 20,
     "metadata": {},
     "output_type": "execute_result"
    }
   ],
   "source": [
    "df_person[\"name\"].str.upper()  # .lower(), .replace(), strip(), .count(), isdigit(), etc like regular string methods"
   ]
  },
  {
   "cell_type": "markdown",
   "id": "16cdfbf5",
   "metadata": {},
   "source": [
    "### pandas: like Excel's pivot table or SQL's GROUP BY"
   ]
  },
  {
   "cell_type": "code",
   "execution_count": 21,
   "id": "afdb1043",
   "metadata": {},
   "outputs": [
    {
     "data": {
      "text/html": [
       "<div>\n",
       "<style scoped>\n",
       "    .dataframe tbody tr th:only-of-type {\n",
       "        vertical-align: middle;\n",
       "    }\n",
       "\n",
       "    .dataframe tbody tr th {\n",
       "        vertical-align: top;\n",
       "    }\n",
       "\n",
       "    .dataframe thead th {\n",
       "        text-align: right;\n",
       "    }\n",
       "</style>\n",
       "<table border=\"1\" class=\"dataframe\">\n",
       "  <thead>\n",
       "    <tr style=\"text-align: right;\">\n",
       "      <th></th>\n",
       "      <th>name</th>\n",
       "      <th>item</th>\n",
       "      <th>price</th>\n",
       "    </tr>\n",
       "  </thead>\n",
       "  <tbody>\n",
       "    <tr>\n",
       "      <th>0</th>\n",
       "      <td>Alice</td>\n",
       "      <td>dress</td>\n",
       "      <td>40</td>\n",
       "    </tr>\n",
       "    <tr>\n",
       "      <th>1</th>\n",
       "      <td>Alice</td>\n",
       "      <td>shoes</td>\n",
       "      <td>50</td>\n",
       "    </tr>\n",
       "    <tr>\n",
       "      <th>2</th>\n",
       "      <td>Bob</td>\n",
       "      <td>video game</td>\n",
       "      <td>60</td>\n",
       "    </tr>\n",
       "  </tbody>\n",
       "</table>\n",
       "</div>"
      ],
      "text/plain": [
       "    name        item  price\n",
       "0  Alice       dress     40\n",
       "1  Alice       shoes     50\n",
       "2    Bob  video game     60"
      ]
     },
     "execution_count": 21,
     "metadata": {},
     "output_type": "execute_result"
    }
   ],
   "source": [
    "df_orders = pd.DataFrame({\n",
    "    \"name\": [\"Alice\", \"Alice\", \"Bob\"],\n",
    "    \"item\": [\"dress\", \"shoes\", \"video game\"],\n",
    "    \"price\": [40, 50, 60]},\n",
    ")\n",
    "df_orders"
   ]
  },
  {
   "cell_type": "code",
   "execution_count": 22,
   "id": "8a79cf04",
   "metadata": {},
   "outputs": [
    {
     "data": {
      "text/plain": [
       "name\n",
       "Alice    2\n",
       "Bob      1\n",
       "Name: count, dtype: int64"
      ]
     },
     "execution_count": 22,
     "metadata": {},
     "output_type": "execute_result"
    }
   ],
   "source": [
    "df_orders[\"name\"].value_counts()\n",
    "# equivalent to:\n",
    "# SELECT name, COUNT(*)\n",
    "# FROM table\n",
    "# GROUP BY name"
   ]
  },
  {
   "cell_type": "code",
   "execution_count": 23,
   "id": "1561eb3f",
   "metadata": {},
   "outputs": [
    {
     "data": {
      "text/html": [
       "<div>\n",
       "<style scoped>\n",
       "    .dataframe tbody tr th:only-of-type {\n",
       "        vertical-align: middle;\n",
       "    }\n",
       "\n",
       "    .dataframe tbody tr th {\n",
       "        vertical-align: top;\n",
       "    }\n",
       "\n",
       "    .dataframe thead th {\n",
       "        text-align: right;\n",
       "    }\n",
       "</style>\n",
       "<table border=\"1\" class=\"dataframe\">\n",
       "  <thead>\n",
       "    <tr style=\"text-align: right;\">\n",
       "      <th></th>\n",
       "      <th>name</th>\n",
       "      <th>price</th>\n",
       "    </tr>\n",
       "  </thead>\n",
       "  <tbody>\n",
       "    <tr>\n",
       "      <th>0</th>\n",
       "      <td>Alice</td>\n",
       "      <td>90</td>\n",
       "    </tr>\n",
       "    <tr>\n",
       "      <th>1</th>\n",
       "      <td>Bob</td>\n",
       "      <td>60</td>\n",
       "    </tr>\n",
       "  </tbody>\n",
       "</table>\n",
       "</div>"
      ],
      "text/plain": [
       "    name  price\n",
       "0  Alice     90\n",
       "1    Bob     60"
      ]
     },
     "execution_count": 23,
     "metadata": {},
     "output_type": "execute_result"
    }
   ],
   "source": [
    "df_orders.groupby(\"name\")[[\"price\"]].sum().reset_index()\n",
    "# equivalent to:\n",
    "# SELECT name, SUM(price) as price\n",
    "# FROM table\n",
    "# GROUP BY name"
   ]
  },
  {
   "cell_type": "markdown",
   "id": "03583699",
   "metadata": {},
   "source": [
    "Also `pandas` allows you to do fancier (ie any computation) on the aggregations. So this is more powerful than Excel or SQL. You can use custom aggregation functions to emulate window functions in SQL. If you need any help, feel free to ask me."
   ]
  },
  {
   "cell_type": "markdown",
   "id": "55d01a77",
   "metadata": {},
   "source": [
    "### JOIN\n",
    "In practice, I don't JOIN dataframes often, but it is possible."
   ]
  },
  {
   "cell_type": "code",
   "execution_count": 24,
   "id": "6a2b7e48",
   "metadata": {},
   "outputs": [
    {
     "data": {
      "text/html": [
       "<div>\n",
       "<style scoped>\n",
       "    .dataframe tbody tr th:only-of-type {\n",
       "        vertical-align: middle;\n",
       "    }\n",
       "\n",
       "    .dataframe tbody tr th {\n",
       "        vertical-align: top;\n",
       "    }\n",
       "\n",
       "    .dataframe thead th {\n",
       "        text-align: right;\n",
       "    }\n",
       "</style>\n",
       "<table border=\"1\" class=\"dataframe\">\n",
       "  <thead>\n",
       "    <tr style=\"text-align: right;\">\n",
       "      <th></th>\n",
       "      <th>name</th>\n",
       "      <th>age</th>\n",
       "      <th>gender</th>\n",
       "      <th>item</th>\n",
       "      <th>price</th>\n",
       "    </tr>\n",
       "  </thead>\n",
       "  <tbody>\n",
       "    <tr>\n",
       "      <th>0</th>\n",
       "      <td>Alice</td>\n",
       "      <td>20</td>\n",
       "      <td>F</td>\n",
       "      <td>dress</td>\n",
       "      <td>40.0</td>\n",
       "    </tr>\n",
       "    <tr>\n",
       "      <th>1</th>\n",
       "      <td>Alice</td>\n",
       "      <td>20</td>\n",
       "      <td>F</td>\n",
       "      <td>shoes</td>\n",
       "      <td>50.0</td>\n",
       "    </tr>\n",
       "    <tr>\n",
       "      <th>2</th>\n",
       "      <td>Bob</td>\n",
       "      <td>30</td>\n",
       "      <td>M</td>\n",
       "      <td>video game</td>\n",
       "      <td>60.0</td>\n",
       "    </tr>\n",
       "    <tr>\n",
       "      <th>3</th>\n",
       "      <td>Carol</td>\n",
       "      <td>40</td>\n",
       "      <td>F</td>\n",
       "      <td>NaN</td>\n",
       "      <td>NaN</td>\n",
       "    </tr>\n",
       "  </tbody>\n",
       "</table>\n",
       "</div>"
      ],
      "text/plain": [
       "    name  age gender        item  price\n",
       "0  Alice   20      F       dress   40.0\n",
       "1  Alice   20      F       shoes   50.0\n",
       "2    Bob   30      M  video game   60.0\n",
       "3  Carol   40      F         NaN    NaN"
      ]
     },
     "execution_count": 24,
     "metadata": {},
     "output_type": "execute_result"
    }
   ],
   "source": [
    "pd.DataFrame.merge(df_person, df_orders, on=\"name\", how=\"left\")  # .join() does something else, which is counterinuitive and annoying\n",
    "# df_person.merge(df_orders, on=\"name\", how=\"left\")  # also works\n",
    "\n",
    "# also note for the `price` column, whenever you have a NaN/Null, then a numeric column becomes a float column"
   ]
  },
  {
   "cell_type": "code",
   "execution_count": 25,
   "id": "999d63b6",
   "metadata": {},
   "outputs": [
    {
     "data": {
      "text/html": [
       "<div>\n",
       "<style scoped>\n",
       "    .dataframe tbody tr th:only-of-type {\n",
       "        vertical-align: middle;\n",
       "    }\n",
       "\n",
       "    .dataframe tbody tr th {\n",
       "        vertical-align: top;\n",
       "    }\n",
       "\n",
       "    .dataframe thead th {\n",
       "        text-align: right;\n",
       "    }\n",
       "</style>\n",
       "<table border=\"1\" class=\"dataframe\">\n",
       "  <thead>\n",
       "    <tr style=\"text-align: right;\">\n",
       "      <th></th>\n",
       "      <th>name</th>\n",
       "      <th>age</th>\n",
       "      <th>gender</th>\n",
       "      <th>item</th>\n",
       "      <th>price</th>\n",
       "    </tr>\n",
       "  </thead>\n",
       "  <tbody>\n",
       "    <tr>\n",
       "      <th>0</th>\n",
       "      <td>Alice</td>\n",
       "      <td>20</td>\n",
       "      <td>F</td>\n",
       "      <td>dress</td>\n",
       "      <td>40</td>\n",
       "    </tr>\n",
       "    <tr>\n",
       "      <th>1</th>\n",
       "      <td>Alice</td>\n",
       "      <td>20</td>\n",
       "      <td>F</td>\n",
       "      <td>shoes</td>\n",
       "      <td>50</td>\n",
       "    </tr>\n",
       "    <tr>\n",
       "      <th>2</th>\n",
       "      <td>Bob</td>\n",
       "      <td>30</td>\n",
       "      <td>M</td>\n",
       "      <td>video game</td>\n",
       "      <td>60</td>\n",
       "    </tr>\n",
       "  </tbody>\n",
       "</table>\n",
       "</div>"
      ],
      "text/plain": [
       "    name  age gender        item  price\n",
       "0  Alice   20      F       dress     40\n",
       "1  Alice   20      F       shoes     50\n",
       "2    Bob   30      M  video game     60"
      ]
     },
     "execution_count": 25,
     "metadata": {},
     "output_type": "execute_result"
    }
   ],
   "source": [
    "df_person.merge(df_orders, on=\"name\", how=\"right\")  # notice last row is dropped"
   ]
  },
  {
   "cell_type": "markdown",
   "id": "11cd43a0",
   "metadata": {},
   "source": [
    "### Combining 2 dataframes together"
   ]
  },
  {
   "cell_type": "code",
   "execution_count": 26,
   "id": "2e5de4aa",
   "metadata": {},
   "outputs": [
    {
     "data": {
      "text/html": [
       "<div>\n",
       "<style scoped>\n",
       "    .dataframe tbody tr th:only-of-type {\n",
       "        vertical-align: middle;\n",
       "    }\n",
       "\n",
       "    .dataframe tbody tr th {\n",
       "        vertical-align: top;\n",
       "    }\n",
       "\n",
       "    .dataframe thead th {\n",
       "        text-align: right;\n",
       "    }\n",
       "</style>\n",
       "<table border=\"1\" class=\"dataframe\">\n",
       "  <thead>\n",
       "    <tr style=\"text-align: right;\">\n",
       "      <th></th>\n",
       "      <th>name</th>\n",
       "      <th>age</th>\n",
       "      <th>gender</th>\n",
       "    </tr>\n",
       "  </thead>\n",
       "  <tbody>\n",
       "    <tr>\n",
       "      <th>0</th>\n",
       "      <td>Alice</td>\n",
       "      <td>20</td>\n",
       "      <td>F</td>\n",
       "    </tr>\n",
       "    <tr>\n",
       "      <th>1</th>\n",
       "      <td>Bob</td>\n",
       "      <td>30</td>\n",
       "      <td>M</td>\n",
       "    </tr>\n",
       "    <tr>\n",
       "      <th>2</th>\n",
       "      <td>Carol</td>\n",
       "      <td>40</td>\n",
       "      <td>F</td>\n",
       "    </tr>\n",
       "    <tr>\n",
       "      <th>0</th>\n",
       "      <td>Alice</td>\n",
       "      <td>20</td>\n",
       "      <td>F</td>\n",
       "    </tr>\n",
       "    <tr>\n",
       "      <th>1</th>\n",
       "      <td>Bob</td>\n",
       "      <td>30</td>\n",
       "      <td>M</td>\n",
       "    </tr>\n",
       "    <tr>\n",
       "      <th>2</th>\n",
       "      <td>Carol</td>\n",
       "      <td>40</td>\n",
       "      <td>F</td>\n",
       "    </tr>\n",
       "  </tbody>\n",
       "</table>\n",
       "</div>"
      ],
      "text/plain": [
       "    name  age gender\n",
       "0  Alice   20      F\n",
       "1    Bob   30      M\n",
       "2  Carol   40      F\n",
       "0  Alice   20      F\n",
       "1    Bob   30      M\n",
       "2  Carol   40      F"
      ]
     },
     "execution_count": 26,
     "metadata": {},
     "output_type": "execute_result"
    }
   ],
   "source": [
    "pd.concat([df_person, df_person], axis=0)"
   ]
  },
  {
   "cell_type": "code",
   "execution_count": 27,
   "id": "ef7cd315",
   "metadata": {},
   "outputs": [
    {
     "data": {
      "text/html": [
       "<div>\n",
       "<style scoped>\n",
       "    .dataframe tbody tr th:only-of-type {\n",
       "        vertical-align: middle;\n",
       "    }\n",
       "\n",
       "    .dataframe tbody tr th {\n",
       "        vertical-align: top;\n",
       "    }\n",
       "\n",
       "    .dataframe thead th {\n",
       "        text-align: right;\n",
       "    }\n",
       "</style>\n",
       "<table border=\"1\" class=\"dataframe\">\n",
       "  <thead>\n",
       "    <tr style=\"text-align: right;\">\n",
       "      <th></th>\n",
       "      <th>name</th>\n",
       "      <th>age</th>\n",
       "      <th>gender</th>\n",
       "      <th>name</th>\n",
       "      <th>age</th>\n",
       "      <th>gender</th>\n",
       "    </tr>\n",
       "  </thead>\n",
       "  <tbody>\n",
       "    <tr>\n",
       "      <th>0</th>\n",
       "      <td>Alice</td>\n",
       "      <td>20</td>\n",
       "      <td>F</td>\n",
       "      <td>Alice</td>\n",
       "      <td>20</td>\n",
       "      <td>F</td>\n",
       "    </tr>\n",
       "    <tr>\n",
       "      <th>1</th>\n",
       "      <td>Bob</td>\n",
       "      <td>30</td>\n",
       "      <td>M</td>\n",
       "      <td>Bob</td>\n",
       "      <td>30</td>\n",
       "      <td>M</td>\n",
       "    </tr>\n",
       "    <tr>\n",
       "      <th>2</th>\n",
       "      <td>Carol</td>\n",
       "      <td>40</td>\n",
       "      <td>F</td>\n",
       "      <td>Carol</td>\n",
       "      <td>40</td>\n",
       "      <td>F</td>\n",
       "    </tr>\n",
       "  </tbody>\n",
       "</table>\n",
       "</div>"
      ],
      "text/plain": [
       "    name  age gender   name  age gender\n",
       "0  Alice   20      F  Alice   20      F\n",
       "1    Bob   30      M    Bob   30      M\n",
       "2  Carol   40      F  Carol   40      F"
      ]
     },
     "execution_count": 27,
     "metadata": {},
     "output_type": "execute_result"
    }
   ],
   "source": [
    "pd.concat([df_person, df_person], axis=1)  # notice the difference"
   ]
  },
  {
   "cell_type": "markdown",
   "id": "a779d0ae",
   "metadata": {},
   "source": [
    "### Compare DataFrames"
   ]
  },
  {
   "cell_type": "code",
   "execution_count": 28,
   "id": "84c8d2dd",
   "metadata": {},
   "outputs": [
    {
     "data": {
      "text/html": [
       "<div>\n",
       "<style scoped>\n",
       "    .dataframe tbody tr th:only-of-type {\n",
       "        vertical-align: middle;\n",
       "    }\n",
       "\n",
       "    .dataframe tbody tr th {\n",
       "        vertical-align: top;\n",
       "    }\n",
       "\n",
       "    .dataframe thead th {\n",
       "        text-align: right;\n",
       "    }\n",
       "</style>\n",
       "<table border=\"1\" class=\"dataframe\">\n",
       "  <thead>\n",
       "    <tr style=\"text-align: right;\">\n",
       "      <th></th>\n",
       "      <th>name</th>\n",
       "      <th>age</th>\n",
       "      <th>gender</th>\n",
       "    </tr>\n",
       "  </thead>\n",
       "  <tbody>\n",
       "    <tr>\n",
       "      <th>0</th>\n",
       "      <td>Alice</td>\n",
       "      <td>20</td>\n",
       "      <td>M</td>\n",
       "    </tr>\n",
       "    <tr>\n",
       "      <th>1</th>\n",
       "      <td>Bob</td>\n",
       "      <td>30</td>\n",
       "      <td>M</td>\n",
       "    </tr>\n",
       "    <tr>\n",
       "      <th>2</th>\n",
       "      <td>Carol</td>\n",
       "      <td>40</td>\n",
       "      <td>F</td>\n",
       "    </tr>\n",
       "  </tbody>\n",
       "</table>\n",
       "</div>"
      ],
      "text/plain": [
       "    name  age gender\n",
       "0  Alice   20      M\n",
       "1    Bob   30      M\n",
       "2  Carol   40      F"
      ]
     },
     "execution_count": 28,
     "metadata": {},
     "output_type": "execute_result"
    }
   ],
   "source": [
    "df_person_modified = df_person.copy()\n",
    "df_person_modified.loc[0, \"gender\"] = \"M\"\n",
    "df_person_modified"
   ]
  },
  {
   "cell_type": "code",
   "execution_count": 29,
   "id": "16c6d203",
   "metadata": {},
   "outputs": [
    {
     "data": {
      "text/html": [
       "<div>\n",
       "<style scoped>\n",
       "    .dataframe tbody tr th:only-of-type {\n",
       "        vertical-align: middle;\n",
       "    }\n",
       "\n",
       "    .dataframe tbody tr th {\n",
       "        vertical-align: top;\n",
       "    }\n",
       "\n",
       "    .dataframe thead th {\n",
       "        text-align: right;\n",
       "    }\n",
       "</style>\n",
       "<table border=\"1\" class=\"dataframe\">\n",
       "  <thead>\n",
       "    <tr style=\"text-align: right;\">\n",
       "      <th></th>\n",
       "      <th>name</th>\n",
       "      <th>age</th>\n",
       "      <th>gender</th>\n",
       "    </tr>\n",
       "  </thead>\n",
       "  <tbody>\n",
       "    <tr>\n",
       "      <th>0</th>\n",
       "      <td>True</td>\n",
       "      <td>True</td>\n",
       "      <td>False</td>\n",
       "    </tr>\n",
       "    <tr>\n",
       "      <th>1</th>\n",
       "      <td>True</td>\n",
       "      <td>True</td>\n",
       "      <td>True</td>\n",
       "    </tr>\n",
       "    <tr>\n",
       "      <th>2</th>\n",
       "      <td>True</td>\n",
       "      <td>True</td>\n",
       "      <td>True</td>\n",
       "    </tr>\n",
       "  </tbody>\n",
       "</table>\n",
       "</div>"
      ],
      "text/plain": [
       "   name   age  gender\n",
       "0  True  True   False\n",
       "1  True  True    True\n",
       "2  True  True    True"
      ]
     },
     "execution_count": 29,
     "metadata": {},
     "output_type": "execute_result"
    }
   ],
   "source": [
    "df_person == df_person_modified  # element-wise comparison"
   ]
  },
  {
   "cell_type": "code",
   "execution_count": 30,
   "id": "23eae842",
   "metadata": {},
   "outputs": [
    {
     "data": {
      "text/plain": [
       "name       True\n",
       "age        True\n",
       "gender    False\n",
       "dtype: bool"
      ]
     },
     "execution_count": 30,
     "metadata": {},
     "output_type": "execute_result"
    }
   ],
   "source": [
    "(df_person == df_person_modified).all()  # column-wise comparison"
   ]
  },
  {
   "cell_type": "code",
   "execution_count": 31,
   "id": "e9438309",
   "metadata": {},
   "outputs": [
    {
     "data": {
      "text/plain": [
       "False"
      ]
     },
     "execution_count": 31,
     "metadata": {},
     "output_type": "execute_result"
    }
   ],
   "source": [
    "pd.DataFrame.equals(df_person, df_person_modified)  # entire dataframe comparison"
   ]
  },
  {
   "cell_type": "markdown",
   "id": "0205761f",
   "metadata": {},
   "source": [
    "### Sort dataframe (like ORDER BY)"
   ]
  },
  {
   "cell_type": "code",
   "execution_count": 32,
   "id": "35cceb9a",
   "metadata": {},
   "outputs": [
    {
     "data": {
      "text/html": [
       "<div>\n",
       "<style scoped>\n",
       "    .dataframe tbody tr th:only-of-type {\n",
       "        vertical-align: middle;\n",
       "    }\n",
       "\n",
       "    .dataframe tbody tr th {\n",
       "        vertical-align: top;\n",
       "    }\n",
       "\n",
       "    .dataframe thead th {\n",
       "        text-align: right;\n",
       "    }\n",
       "</style>\n",
       "<table border=\"1\" class=\"dataframe\">\n",
       "  <thead>\n",
       "    <tr style=\"text-align: right;\">\n",
       "      <th></th>\n",
       "      <th>name</th>\n",
       "      <th>age</th>\n",
       "      <th>gender</th>\n",
       "    </tr>\n",
       "  </thead>\n",
       "  <tbody>\n",
       "    <tr>\n",
       "      <th>0</th>\n",
       "      <td>Alice</td>\n",
       "      <td>20</td>\n",
       "      <td>F</td>\n",
       "    </tr>\n",
       "    <tr>\n",
       "      <th>1</th>\n",
       "      <td>Bob</td>\n",
       "      <td>30</td>\n",
       "      <td>M</td>\n",
       "    </tr>\n",
       "    <tr>\n",
       "      <th>2</th>\n",
       "      <td>Carol</td>\n",
       "      <td>40</td>\n",
       "      <td>F</td>\n",
       "    </tr>\n",
       "  </tbody>\n",
       "</table>\n",
       "</div>"
      ],
      "text/plain": [
       "    name  age gender\n",
       "0  Alice   20      F\n",
       "1    Bob   30      M\n",
       "2  Carol   40      F"
      ]
     },
     "execution_count": 32,
     "metadata": {},
     "output_type": "execute_result"
    }
   ],
   "source": [
    "df_person.sort_values(\"age\")  # equivalent to ORDER BY age"
   ]
  },
  {
   "cell_type": "code",
   "execution_count": 33,
   "id": "a7ba1128",
   "metadata": {},
   "outputs": [
    {
     "data": {
      "text/html": [
       "<div>\n",
       "<style scoped>\n",
       "    .dataframe tbody tr th:only-of-type {\n",
       "        vertical-align: middle;\n",
       "    }\n",
       "\n",
       "    .dataframe tbody tr th {\n",
       "        vertical-align: top;\n",
       "    }\n",
       "\n",
       "    .dataframe thead th {\n",
       "        text-align: right;\n",
       "    }\n",
       "</style>\n",
       "<table border=\"1\" class=\"dataframe\">\n",
       "  <thead>\n",
       "    <tr style=\"text-align: right;\">\n",
       "      <th></th>\n",
       "      <th>name</th>\n",
       "      <th>age</th>\n",
       "      <th>gender</th>\n",
       "    </tr>\n",
       "  </thead>\n",
       "  <tbody>\n",
       "    <tr>\n",
       "      <th>2</th>\n",
       "      <td>Carol</td>\n",
       "      <td>40</td>\n",
       "      <td>F</td>\n",
       "    </tr>\n",
       "    <tr>\n",
       "      <th>1</th>\n",
       "      <td>Bob</td>\n",
       "      <td>30</td>\n",
       "      <td>M</td>\n",
       "    </tr>\n",
       "    <tr>\n",
       "      <th>0</th>\n",
       "      <td>Alice</td>\n",
       "      <td>20</td>\n",
       "      <td>F</td>\n",
       "    </tr>\n",
       "  </tbody>\n",
       "</table>\n",
       "</div>"
      ],
      "text/plain": [
       "    name  age gender\n",
       "2  Carol   40      F\n",
       "1    Bob   30      M\n",
       "0  Alice   20      F"
      ]
     },
     "execution_count": 33,
     "metadata": {},
     "output_type": "execute_result"
    }
   ],
   "source": [
    "df_person.sort_values(\"age\", ascending=False)  # equivalent to ORDER BY age DESC"
   ]
  },
  {
   "cell_type": "code",
   "execution_count": 34,
   "id": "81502340",
   "metadata": {},
   "outputs": [
    {
     "data": {
      "text/html": [
       "<div>\n",
       "<style scoped>\n",
       "    .dataframe tbody tr th:only-of-type {\n",
       "        vertical-align: middle;\n",
       "    }\n",
       "\n",
       "    .dataframe tbody tr th {\n",
       "        vertical-align: top;\n",
       "    }\n",
       "\n",
       "    .dataframe thead th {\n",
       "        text-align: right;\n",
       "    }\n",
       "</style>\n",
       "<table border=\"1\" class=\"dataframe\">\n",
       "  <thead>\n",
       "    <tr style=\"text-align: right;\">\n",
       "      <th></th>\n",
       "      <th>name</th>\n",
       "      <th>age</th>\n",
       "      <th>gender</th>\n",
       "    </tr>\n",
       "  </thead>\n",
       "  <tbody>\n",
       "    <tr>\n",
       "      <th>0</th>\n",
       "      <td>Carol</td>\n",
       "      <td>40</td>\n",
       "      <td>F</td>\n",
       "    </tr>\n",
       "    <tr>\n",
       "      <th>1</th>\n",
       "      <td>Bob</td>\n",
       "      <td>30</td>\n",
       "      <td>M</td>\n",
       "    </tr>\n",
       "    <tr>\n",
       "      <th>2</th>\n",
       "      <td>Alice</td>\n",
       "      <td>20</td>\n",
       "      <td>F</td>\n",
       "    </tr>\n",
       "  </tbody>\n",
       "</table>\n",
       "</div>"
      ],
      "text/plain": [
       "    name  age gender\n",
       "0  Carol   40      F\n",
       "1    Bob   30      M\n",
       "2  Alice   20      F"
      ]
     },
     "execution_count": 34,
     "metadata": {},
     "output_type": "execute_result"
    }
   ],
   "source": [
    "df_person.sort_values(\"age\", ascending=False).reset_index(drop=True)  # make the index look normal again"
   ]
  },
  {
   "cell_type": "code",
   "execution_count": null,
   "id": "dfcb5ab2",
   "metadata": {},
   "outputs": [],
   "source": []
  },
  {
   "cell_type": "markdown",
   "id": "6f26605d",
   "metadata": {},
   "source": [
    "### Plot (like Quicksight)\n",
    "`pandas` uses `matplotlib` to plot."
   ]
  },
  {
   "cell_type": "code",
   "execution_count": 35,
   "id": "b3a65d2f",
   "metadata": {},
   "outputs": [
    {
     "data": {
      "text/plain": [
       "<Axes: >"
      ]
     },
     "execution_count": 35,
     "metadata": {},
     "output_type": "execute_result"
    },
    {
     "data": {
      "image/png": "[encoded data removed]",
      "text/plain": [
       "<Figure size 640x480 with 1 Axes>"
      ]
     },
     "metadata": {},
     "output_type": "display_data"
    }
   ],
   "source": [
    "df_person[\"age\"].plot(kind=\"bar\")"
   ]
  },
  {
   "cell_type": "code",
   "execution_count": 36,
   "id": "549f80e7",
   "metadata": {},
   "outputs": [
    {
     "data": {
      "text/plain": [
       "<Axes: >"
      ]
     },
     "execution_count": 36,
     "metadata": {},
     "output_type": "execute_result"
    },
    {
     "data": {
      "image/png": "[encoded data removed]",
      "text/plain": [
       "<Figure size 640x480 with 1 Axes>"
      ]
     },
     "metadata": {},
     "output_type": "display_data"
    }
   ],
   "source": [
    "df_person[\"age\"].plot(kind=\"line\")"
   ]
  },
  {
   "cell_type": "code",
   "execution_count": 37,
   "id": "3ad0bd2b",
   "metadata": {},
   "outputs": [
    {
     "data": {
      "text/plain": [
       "<Axes: ylabel='Frequency'>"
      ]
     },
     "execution_count": 37,
     "metadata": {},
     "output_type": "execute_result"
    },
    {
     "data": {
      "image/png": "[encoded data removed]",
      "text/plain": [
       "<Figure size 640x480 with 1 Axes>"
      ]
     },
     "metadata": {},
     "output_type": "display_data"
    }
   ],
   "source": [
    "df_person[\"age\"].plot(kind=\"hist\")"
   ]
  },
  {
   "cell_type": "code",
   "execution_count": 38,
   "id": "53f8330d",
   "metadata": {},
   "outputs": [
    {
     "data": {
      "text/plain": [
       "<Axes: xlabel='name'>"
      ]
     },
     "execution_count": 38,
     "metadata": {},
     "output_type": "execute_result"
    },
    {
     "data": {
      "image/png": "[encoded data removed]",
      "text/plain": [
       "<Figure size 640x480 with 1 Axes>"
      ]
     },
     "metadata": {},
     "output_type": "display_data"
    }
   ],
   "source": [
    "df_orders.groupby(\"name\")[\"price\"].sum().plot(kind=\"bar\")"
   ]
  },
  {
   "cell_type": "code",
   "execution_count": null,
   "id": "c57dcd75",
   "metadata": {},
   "outputs": [],
   "source": []
  },
  {
   "cell_type": "markdown",
   "id": "119f6c2b",
   "metadata": {},
   "source": [
    "### Styler (relatively new feature)\n",
    "Works like Excel highlighting a cell"
   ]
  },
  {
   "cell_type": "code",
   "execution_count": 39,
   "id": "4e4ad037",
   "metadata": {},
   "outputs": [
    {
     "data": {
      "text/html": [
       "<style type=\"text/css\">\n",
       "#T_6c208_row0_col2 {\n",
       "  background-color: #440154;\n",
       "  color: #f1f1f1;\n",
       "}\n",
       "#T_6c208_row1_col2 {\n",
       "  background-color: #21918c;\n",
       "  color: #f1f1f1;\n",
       "}\n",
       "#T_6c208_row2_col2 {\n",
       "  background-color: #fde725;\n",
       "  color: #000000;\n",
       "}\n",
       "</style>\n",
       "<table id=\"T_6c208\">\n",
       "  <thead>\n",
       "    <tr>\n",
       "      <th class=\"blank level0\" >&nbsp;</th>\n",
       "      <th id=\"T_6c208_level0_col0\" class=\"col_heading level0 col0\" >name</th>\n",
       "      <th id=\"T_6c208_level0_col1\" class=\"col_heading level0 col1\" >item</th>\n",
       "      <th id=\"T_6c208_level0_col2\" class=\"col_heading level0 col2\" >price</th>\n",
       "    </tr>\n",
       "  </thead>\n",
       "  <tbody>\n",
       "    <tr>\n",
       "      <th id=\"T_6c208_level0_row0\" class=\"row_heading level0 row0\" >0</th>\n",
       "      <td id=\"T_6c208_row0_col0\" class=\"data row0 col0\" >Alice</td>\n",
       "      <td id=\"T_6c208_row0_col1\" class=\"data row0 col1\" >dress</td>\n",
       "      <td id=\"T_6c208_row0_col2\" class=\"data row0 col2\" >40</td>\n",
       "    </tr>\n",
       "    <tr>\n",
       "      <th id=\"T_6c208_level0_row1\" class=\"row_heading level0 row1\" >1</th>\n",
       "      <td id=\"T_6c208_row1_col0\" class=\"data row1 col0\" >Alice</td>\n",
       "      <td id=\"T_6c208_row1_col1\" class=\"data row1 col1\" >shoes</td>\n",
       "      <td id=\"T_6c208_row1_col2\" class=\"data row1 col2\" >50</td>\n",
       "    </tr>\n",
       "    <tr>\n",
       "      <th id=\"T_6c208_level0_row2\" class=\"row_heading level0 row2\" >2</th>\n",
       "      <td id=\"T_6c208_row2_col0\" class=\"data row2 col0\" >Bob</td>\n",
       "      <td id=\"T_6c208_row2_col1\" class=\"data row2 col1\" >video game</td>\n",
       "      <td id=\"T_6c208_row2_col2\" class=\"data row2 col2\" >60</td>\n",
       "    </tr>\n",
       "  </tbody>\n",
       "</table>\n"
      ],
      "text/plain": [
       "<pandas.io.formats.style.Styler at 0x11b870e50>"
      ]
     },
     "execution_count": 39,
     "metadata": {},
     "output_type": "execute_result"
    }
   ],
   "source": [
    "df_orders.style.background_gradient(cmap='viridis')"
   ]
  },
  {
   "cell_type": "code",
   "execution_count": 40,
   "id": "8a1d0482",
   "metadata": {},
   "outputs": [
    {
     "data": {
      "text/html": [
       "<style type=\"text/css\">\n",
       "#T_cbfc4_row0_col0, #T_cbfc4_row0_col1, #T_cbfc4_row0_col3, #T_cbfc4_row0_col4, #T_cbfc4_row0_col5, #T_cbfc4_row0_col7, #T_cbfc4_row0_col8, #T_cbfc4_row1_col3, #T_cbfc4_row1_col6, #T_cbfc4_row1_col8, #T_cbfc4_row2_col6, #T_cbfc4_row2_col7, #T_cbfc4_row3_col0, #T_cbfc4_row3_col3, #T_cbfc4_row3_col5, #T_cbfc4_row3_col9, #T_cbfc4_row4_col2, #T_cbfc4_row4_col5, #T_cbfc4_row5_col0, #T_cbfc4_row5_col3, #T_cbfc4_row5_col6, #T_cbfc4_row5_col7, #T_cbfc4_row6_col0, #T_cbfc4_row6_col1, #T_cbfc4_row6_col2, #T_cbfc4_row6_col6, #T_cbfc4_row6_col9, #T_cbfc4_row7_col2, #T_cbfc4_row7_col5, #T_cbfc4_row7_col7, #T_cbfc4_row8_col1, #T_cbfc4_row8_col3, #T_cbfc4_row8_col4, #T_cbfc4_row8_col5, #T_cbfc4_row8_col8, #T_cbfc4_row9_col2, #T_cbfc4_row9_col3, #T_cbfc4_row9_col6 {\n",
       "  color: black;\n",
       "}\n",
       "#T_cbfc4_row0_col2, #T_cbfc4_row1_col0, #T_cbfc4_row1_col5, #T_cbfc4_row1_col7, #T_cbfc4_row4_col1, #T_cbfc4_row4_col3, #T_cbfc4_row6_col4, #T_cbfc4_row6_col8, #T_cbfc4_row8_col6, #T_cbfc4_row9_col9 {\n",
       "  color: black;\n",
       "  background-color: yellow;\n",
       "}\n",
       "#T_cbfc4_row0_col6, #T_cbfc4_row0_col9, #T_cbfc4_row1_col1, #T_cbfc4_row1_col2, #T_cbfc4_row1_col4, #T_cbfc4_row1_col9, #T_cbfc4_row2_col0, #T_cbfc4_row2_col1, #T_cbfc4_row2_col2, #T_cbfc4_row2_col3, #T_cbfc4_row2_col4, #T_cbfc4_row2_col5, #T_cbfc4_row2_col8, #T_cbfc4_row2_col9, #T_cbfc4_row3_col1, #T_cbfc4_row3_col2, #T_cbfc4_row3_col4, #T_cbfc4_row3_col6, #T_cbfc4_row3_col7, #T_cbfc4_row3_col8, #T_cbfc4_row4_col0, #T_cbfc4_row4_col4, #T_cbfc4_row4_col6, #T_cbfc4_row4_col7, #T_cbfc4_row4_col8, #T_cbfc4_row4_col9, #T_cbfc4_row5_col1, #T_cbfc4_row5_col2, #T_cbfc4_row5_col4, #T_cbfc4_row5_col5, #T_cbfc4_row5_col8, #T_cbfc4_row5_col9, #T_cbfc4_row6_col3, #T_cbfc4_row6_col5, #T_cbfc4_row6_col7, #T_cbfc4_row7_col0, #T_cbfc4_row7_col1, #T_cbfc4_row7_col3, #T_cbfc4_row7_col4, #T_cbfc4_row7_col6, #T_cbfc4_row7_col8, #T_cbfc4_row7_col9, #T_cbfc4_row8_col0, #T_cbfc4_row8_col2, #T_cbfc4_row8_col7, #T_cbfc4_row8_col9, #T_cbfc4_row9_col0, #T_cbfc4_row9_col1, #T_cbfc4_row9_col4, #T_cbfc4_row9_col5, #T_cbfc4_row9_col7, #T_cbfc4_row9_col8 {\n",
       "  color: red;\n",
       "}\n",
       "</style>\n",
       "<table id=\"T_cbfc4\">\n",
       "  <thead>\n",
       "    <tr>\n",
       "      <th class=\"blank level0\" >&nbsp;</th>\n",
       "      <th id=\"T_cbfc4_level0_col0\" class=\"col_heading level0 col0\" >0</th>\n",
       "      <th id=\"T_cbfc4_level0_col1\" class=\"col_heading level0 col1\" >1</th>\n",
       "      <th id=\"T_cbfc4_level0_col2\" class=\"col_heading level0 col2\" >2</th>\n",
       "      <th id=\"T_cbfc4_level0_col3\" class=\"col_heading level0 col3\" >3</th>\n",
       "      <th id=\"T_cbfc4_level0_col4\" class=\"col_heading level0 col4\" >4</th>\n",
       "      <th id=\"T_cbfc4_level0_col5\" class=\"col_heading level0 col5\" >5</th>\n",
       "      <th id=\"T_cbfc4_level0_col6\" class=\"col_heading level0 col6\" >6</th>\n",
       "      <th id=\"T_cbfc4_level0_col7\" class=\"col_heading level0 col7\" >7</th>\n",
       "      <th id=\"T_cbfc4_level0_col8\" class=\"col_heading level0 col8\" >8</th>\n",
       "      <th id=\"T_cbfc4_level0_col9\" class=\"col_heading level0 col9\" >9</th>\n",
       "    </tr>\n",
       "  </thead>\n",
       "  <tbody>\n",
       "    <tr>\n",
       "      <th id=\"T_cbfc4_level0_row0\" class=\"row_heading level0 row0\" >0</th>\n",
       "      <td id=\"T_cbfc4_row0_col0\" class=\"data row0 col0\" >0.274645</td>\n",
       "      <td id=\"T_cbfc4_row0_col1\" class=\"data row0 col1\" >0.054195</td>\n",
       "      <td id=\"T_cbfc4_row0_col2\" class=\"data row0 col2\" >1.184974</td>\n",
       "      <td id=\"T_cbfc4_row0_col3\" class=\"data row0 col3\" >0.657261</td>\n",
       "      <td id=\"T_cbfc4_row0_col4\" class=\"data row0 col4\" >0.751485</td>\n",
       "      <td id=\"T_cbfc4_row0_col5\" class=\"data row0 col5\" >0.608267</td>\n",
       "      <td id=\"T_cbfc4_row0_col6\" class=\"data row0 col6\" >-1.149277</td>\n",
       "      <td id=\"T_cbfc4_row0_col7\" class=\"data row0 col7\" >1.050883</td>\n",
       "      <td id=\"T_cbfc4_row0_col8\" class=\"data row0 col8\" >0.341560</td>\n",
       "      <td id=\"T_cbfc4_row0_col9\" class=\"data row0 col9\" >-0.771603</td>\n",
       "    </tr>\n",
       "    <tr>\n",
       "      <th id=\"T_cbfc4_level0_row1\" class=\"row_heading level0 row1\" >1</th>\n",
       "      <td id=\"T_cbfc4_row1_col0\" class=\"data row1 col0\" >1.148414</td>\n",
       "      <td id=\"T_cbfc4_row1_col1\" class=\"data row1 col1\" >-0.073854</td>\n",
       "      <td id=\"T_cbfc4_row1_col2\" class=\"data row1 col2\" >-0.276243</td>\n",
       "      <td id=\"T_cbfc4_row1_col3\" class=\"data row1 col3\" >1.613408</td>\n",
       "      <td id=\"T_cbfc4_row1_col4\" class=\"data row1 col4\" >-0.499394</td>\n",
       "      <td id=\"T_cbfc4_row1_col5\" class=\"data row1 col5\" >1.685214</td>\n",
       "      <td id=\"T_cbfc4_row1_col6\" class=\"data row1 col6\" >1.290909</td>\n",
       "      <td id=\"T_cbfc4_row1_col7\" class=\"data row1 col7\" >1.562130</td>\n",
       "      <td id=\"T_cbfc4_row1_col8\" class=\"data row1 col8\" >0.487491</td>\n",
       "      <td id=\"T_cbfc4_row1_col9\" class=\"data row1 col9\" >-0.296158</td>\n",
       "    </tr>\n",
       "    <tr>\n",
       "      <th id=\"T_cbfc4_level0_row2\" class=\"row_heading level0 row2\" >2</th>\n",
       "      <td id=\"T_cbfc4_row2_col0\" class=\"data row2 col0\" >-1.129029</td>\n",
       "      <td id=\"T_cbfc4_row2_col1\" class=\"data row2 col1\" >-0.400098</td>\n",
       "      <td id=\"T_cbfc4_row2_col2\" class=\"data row2 col2\" >-0.027120</td>\n",
       "      <td id=\"T_cbfc4_row2_col3\" class=\"data row2 col3\" >-0.720439</td>\n",
       "      <td id=\"T_cbfc4_row2_col4\" class=\"data row2 col4\" >-0.028992</td>\n",
       "      <td id=\"T_cbfc4_row2_col5\" class=\"data row2 col5\" >-0.120018</td>\n",
       "      <td id=\"T_cbfc4_row2_col6\" class=\"data row2 col6\" >0.235700</td>\n",
       "      <td id=\"T_cbfc4_row2_col7\" class=\"data row2 col7\" >0.106658</td>\n",
       "      <td id=\"T_cbfc4_row2_col8\" class=\"data row2 col8\" >-1.461035</td>\n",
       "      <td id=\"T_cbfc4_row2_col9\" class=\"data row2 col9\" >-1.430854</td>\n",
       "    </tr>\n",
       "    <tr>\n",
       "      <th id=\"T_cbfc4_level0_row3\" class=\"row_heading level0 row3\" >3</th>\n",
       "      <td id=\"T_cbfc4_row3_col0\" class=\"data row3 col0\" >0.615867</td>\n",
       "      <td id=\"T_cbfc4_row3_col1\" class=\"data row3 col1\" >-0.612678</td>\n",
       "      <td id=\"T_cbfc4_row3_col2\" class=\"data row3 col2\" >-0.249385</td>\n",
       "      <td id=\"T_cbfc4_row3_col3\" class=\"data row3 col3\" >0.618866</td>\n",
       "      <td id=\"T_cbfc4_row3_col4\" class=\"data row3 col4\" >-0.702845</td>\n",
       "      <td id=\"T_cbfc4_row3_col5\" class=\"data row3 col5\" >1.394732</td>\n",
       "      <td id=\"T_cbfc4_row3_col6\" class=\"data row3 col6\" >-0.500624</td>\n",
       "      <td id=\"T_cbfc4_row3_col7\" class=\"data row3 col7\" >-1.038793</td>\n",
       "      <td id=\"T_cbfc4_row3_col8\" class=\"data row3 col8\" >-2.011865</td>\n",
       "      <td id=\"T_cbfc4_row3_col9\" class=\"data row3 col9\" >0.037732</td>\n",
       "    </tr>\n",
       "    <tr>\n",
       "      <th id=\"T_cbfc4_level0_row4\" class=\"row_heading level0 row4\" >4</th>\n",
       "      <td id=\"T_cbfc4_row4_col0\" class=\"data row4 col0\" >-0.211569</td>\n",
       "      <td id=\"T_cbfc4_row4_col1\" class=\"data row4 col1\" >1.537246</td>\n",
       "      <td id=\"T_cbfc4_row4_col2\" class=\"data row4 col2\" >0.253789</td>\n",
       "      <td id=\"T_cbfc4_row4_col3\" class=\"data row4 col3\" >1.865654</td>\n",
       "      <td id=\"T_cbfc4_row4_col4\" class=\"data row4 col4\" >-1.110330</td>\n",
       "      <td id=\"T_cbfc4_row4_col5\" class=\"data row4 col5\" >0.437503</td>\n",
       "      <td id=\"T_cbfc4_row4_col6\" class=\"data row4 col6\" >-2.162544</td>\n",
       "      <td id=\"T_cbfc4_row4_col7\" class=\"data row4 col7\" >-1.108017</td>\n",
       "      <td id=\"T_cbfc4_row4_col8\" class=\"data row4 col8\" >-1.850603</td>\n",
       "      <td id=\"T_cbfc4_row4_col9\" class=\"data row4 col9\" >-1.979469</td>\n",
       "    </tr>\n",
       "    <tr>\n",
       "      <th id=\"T_cbfc4_level0_row5\" class=\"row_heading level0 row5\" >5</th>\n",
       "      <td id=\"T_cbfc4_row5_col0\" class=\"data row5 col0\" >0.095074</td>\n",
       "      <td id=\"T_cbfc4_row5_col1\" class=\"data row5 col1\" >-1.006410</td>\n",
       "      <td id=\"T_cbfc4_row5_col2\" class=\"data row5 col2\" >-0.006899</td>\n",
       "      <td id=\"T_cbfc4_row5_col3\" class=\"data row5 col3\" >1.615863</td>\n",
       "      <td id=\"T_cbfc4_row5_col4\" class=\"data row5 col4\" >-0.473912</td>\n",
       "      <td id=\"T_cbfc4_row5_col5\" class=\"data row5 col5\" >-1.799691</td>\n",
       "      <td id=\"T_cbfc4_row5_col6\" class=\"data row5 col6\" >1.000731</td>\n",
       "      <td id=\"T_cbfc4_row5_col7\" class=\"data row5 col7\" >0.667075</td>\n",
       "      <td id=\"T_cbfc4_row5_col8\" class=\"data row5 col8\" >-0.619511</td>\n",
       "      <td id=\"T_cbfc4_row5_col9\" class=\"data row5 col9\" >-0.202279</td>\n",
       "    </tr>\n",
       "    <tr>\n",
       "      <th id=\"T_cbfc4_level0_row6\" class=\"row_heading level0 row6\" >6</th>\n",
       "      <td id=\"T_cbfc4_row6_col0\" class=\"data row6 col0\" >0.608915</td>\n",
       "      <td id=\"T_cbfc4_row6_col1\" class=\"data row6 col1\" >1.070560</td>\n",
       "      <td id=\"T_cbfc4_row6_col2\" class=\"data row6 col2\" >0.987439</td>\n",
       "      <td id=\"T_cbfc4_row6_col3\" class=\"data row6 col3\" >-1.515895</td>\n",
       "      <td id=\"T_cbfc4_row6_col4\" class=\"data row6 col4\" >1.230456</td>\n",
       "      <td id=\"T_cbfc4_row6_col5\" class=\"data row6 col5\" >-0.706110</td>\n",
       "      <td id=\"T_cbfc4_row6_col6\" class=\"data row6 col6\" >0.964794</td>\n",
       "      <td id=\"T_cbfc4_row6_col7\" class=\"data row6 col7\" >-1.397953</td>\n",
       "      <td id=\"T_cbfc4_row6_col8\" class=\"data row6 col8\" >1.302265</td>\n",
       "      <td id=\"T_cbfc4_row6_col9\" class=\"data row6 col9\" >0.166506</td>\n",
       "    </tr>\n",
       "    <tr>\n",
       "      <th id=\"T_cbfc4_level0_row7\" class=\"row_heading level0 row7\" >7</th>\n",
       "      <td id=\"T_cbfc4_row7_col0\" class=\"data row7 col0\" >-0.289311</td>\n",
       "      <td id=\"T_cbfc4_row7_col1\" class=\"data row7 col1\" >-0.461194</td>\n",
       "      <td id=\"T_cbfc4_row7_col2\" class=\"data row7 col2\" >0.170419</td>\n",
       "      <td id=\"T_cbfc4_row7_col3\" class=\"data row7 col3\" >-0.420983</td>\n",
       "      <td id=\"T_cbfc4_row7_col4\" class=\"data row7 col4\" >-1.334689</td>\n",
       "      <td id=\"T_cbfc4_row7_col5\" class=\"data row7 col5\" >0.713710</td>\n",
       "      <td id=\"T_cbfc4_row7_col6\" class=\"data row7 col6\" >-0.289153</td>\n",
       "      <td id=\"T_cbfc4_row7_col7\" class=\"data row7 col7\" >0.009787</td>\n",
       "      <td id=\"T_cbfc4_row7_col8\" class=\"data row7 col8\" >-0.167900</td>\n",
       "      <td id=\"T_cbfc4_row7_col9\" class=\"data row7 col9\" >-0.451710</td>\n",
       "    </tr>\n",
       "    <tr>\n",
       "      <th id=\"T_cbfc4_level0_row8\" class=\"row_heading level0 row8\" >8</th>\n",
       "      <td id=\"T_cbfc4_row8_col0\" class=\"data row8 col0\" >-0.000607</td>\n",
       "      <td id=\"T_cbfc4_row8_col1\" class=\"data row8 col1\" >0.700656</td>\n",
       "      <td id=\"T_cbfc4_row8_col2\" class=\"data row8 col2\" >-0.061327</td>\n",
       "      <td id=\"T_cbfc4_row8_col3\" class=\"data row8 col3\" >0.708940</td>\n",
       "      <td id=\"T_cbfc4_row8_col4\" class=\"data row8 col4\" >0.042656</td>\n",
       "      <td id=\"T_cbfc4_row8_col5\" class=\"data row8 col5\" >1.340283</td>\n",
       "      <td id=\"T_cbfc4_row8_col6\" class=\"data row8 col6\" >1.303150</td>\n",
       "      <td id=\"T_cbfc4_row8_col7\" class=\"data row8 col7\" >-0.172068</td>\n",
       "      <td id=\"T_cbfc4_row8_col8\" class=\"data row8 col8\" >0.123950</td>\n",
       "      <td id=\"T_cbfc4_row8_col9\" class=\"data row8 col9\" >-0.061139</td>\n",
       "    </tr>\n",
       "    <tr>\n",
       "      <th id=\"T_cbfc4_level0_row9\" class=\"row_heading level0 row9\" >9</th>\n",
       "      <td id=\"T_cbfc4_row9_col0\" class=\"data row9 col0\" >-0.523114</td>\n",
       "      <td id=\"T_cbfc4_row9_col1\" class=\"data row9 col1\" >-0.435326</td>\n",
       "      <td id=\"T_cbfc4_row9_col2\" class=\"data row9 col2\" >0.990736</td>\n",
       "      <td id=\"T_cbfc4_row9_col3\" class=\"data row9 col3\" >0.712194</td>\n",
       "      <td id=\"T_cbfc4_row9_col4\" class=\"data row9 col4\" >-1.249389</td>\n",
       "      <td id=\"T_cbfc4_row9_col5\" class=\"data row9 col5\" >-0.693146</td>\n",
       "      <td id=\"T_cbfc4_row9_col6\" class=\"data row9 col6\" >0.279789</td>\n",
       "      <td id=\"T_cbfc4_row9_col7\" class=\"data row9 col7\" >-0.240840</td>\n",
       "      <td id=\"T_cbfc4_row9_col8\" class=\"data row9 col8\" >-1.364430</td>\n",
       "      <td id=\"T_cbfc4_row9_col9\" class=\"data row9 col9\" >1.029431</td>\n",
       "    </tr>\n",
       "  </tbody>\n",
       "</table>\n"
      ],
      "text/plain": [
       "<pandas.io.formats.style.Styler at 0x11ba3c4c0>"
      ]
     },
     "execution_count": 40,
     "metadata": {},
     "output_type": "execute_result"
    }
   ],
   "source": [
    "def highlight_max(s):\n",
    "    '''\n",
    "    highlight the maximum in a Series yellow.\n",
    "    '''\n",
    "    is_max = s == s.max()\n",
    "    return ['background-color: yellow' if v else '' for v in is_max]\n",
    "\n",
    "\n",
    "def color_negative_red(val):\n",
    "    \"\"\"\n",
    "    Takes a scalar and returns a string with\n",
    "    the css property `'color: red'` for negative\n",
    "    strings, black otherwise.\n",
    "    \"\"\"\n",
    "    color = 'red' if val < 0 else 'black'\n",
    "    return 'color: %s' % color\n",
    "\n",
    "\n",
    "df = pd.DataFrame(np.random.randn(10, 10))\n",
    "(\n",
    "    df.style\n",
    "    .applymap(color_negative_red)  # applymap occurs for each element\n",
    "    .apply(highlight_max) # apply by default works at the column level\n",
    ")"
   ]
  },
  {
   "cell_type": "code",
   "execution_count": 41,
   "id": "ed24781b",
   "metadata": {},
   "outputs": [
    {
     "data": {
      "text/html": [
       "<style type=\"text/css\">\n",
       "#T_b6c76_row0_col0, #T_b6c76_row0_col1, #T_b6c76_row0_col3, #T_b6c76_row0_col4, #T_b6c76_row0_col5, #T_b6c76_row0_col7, #T_b6c76_row0_col8, #T_b6c76_row1_col0, #T_b6c76_row1_col3, #T_b6c76_row1_col6, #T_b6c76_row1_col7, #T_b6c76_row1_col8, #T_b6c76_row2_col7, #T_b6c76_row3_col0, #T_b6c76_row3_col3, #T_b6c76_row3_col9, #T_b6c76_row4_col1, #T_b6c76_row4_col2, #T_b6c76_row4_col5, #T_b6c76_row5_col0, #T_b6c76_row5_col6, #T_b6c76_row5_col7, #T_b6c76_row6_col0, #T_b6c76_row6_col1, #T_b6c76_row6_col2, #T_b6c76_row6_col4, #T_b6c76_row6_col6, #T_b6c76_row6_col9, #T_b6c76_row7_col2, #T_b6c76_row7_col7, #T_b6c76_row8_col1, #T_b6c76_row8_col3, #T_b6c76_row8_col4, #T_b6c76_row8_col6, #T_b6c76_row8_col8, #T_b6c76_row9_col2, #T_b6c76_row9_col3, #T_b6c76_row9_col6 {\n",
       "  color: black;\n",
       "}\n",
       "#T_b6c76_row0_col2, #T_b6c76_row1_col5, #T_b6c76_row2_col6, #T_b6c76_row3_col5, #T_b6c76_row4_col3, #T_b6c76_row5_col3, #T_b6c76_row6_col8, #T_b6c76_row7_col5, #T_b6c76_row8_col5, #T_b6c76_row9_col9 {\n",
       "  color: black;\n",
       "  background-color: yellow;\n",
       "}\n",
       "#T_b6c76_row0_col6, #T_b6c76_row0_col9, #T_b6c76_row1_col1, #T_b6c76_row1_col2, #T_b6c76_row1_col4, #T_b6c76_row1_col9, #T_b6c76_row2_col0, #T_b6c76_row2_col1, #T_b6c76_row2_col2, #T_b6c76_row2_col3, #T_b6c76_row2_col4, #T_b6c76_row2_col5, #T_b6c76_row2_col8, #T_b6c76_row2_col9, #T_b6c76_row3_col1, #T_b6c76_row3_col2, #T_b6c76_row3_col4, #T_b6c76_row3_col6, #T_b6c76_row3_col7, #T_b6c76_row3_col8, #T_b6c76_row4_col0, #T_b6c76_row4_col4, #T_b6c76_row4_col6, #T_b6c76_row4_col7, #T_b6c76_row4_col8, #T_b6c76_row4_col9, #T_b6c76_row5_col1, #T_b6c76_row5_col2, #T_b6c76_row5_col4, #T_b6c76_row5_col5, #T_b6c76_row5_col8, #T_b6c76_row5_col9, #T_b6c76_row6_col3, #T_b6c76_row6_col5, #T_b6c76_row6_col7, #T_b6c76_row7_col0, #T_b6c76_row7_col1, #T_b6c76_row7_col3, #T_b6c76_row7_col4, #T_b6c76_row7_col6, #T_b6c76_row7_col8, #T_b6c76_row7_col9, #T_b6c76_row8_col0, #T_b6c76_row8_col2, #T_b6c76_row8_col7, #T_b6c76_row8_col9, #T_b6c76_row9_col0, #T_b6c76_row9_col1, #T_b6c76_row9_col4, #T_b6c76_row9_col5, #T_b6c76_row9_col7, #T_b6c76_row9_col8 {\n",
       "  color: red;\n",
       "}\n",
       "</style>\n",
       "<table id=\"T_b6c76\">\n",
       "  <thead>\n",
       "    <tr>\n",
       "      <th class=\"blank level0\" >&nbsp;</th>\n",
       "      <th id=\"T_b6c76_level0_col0\" class=\"col_heading level0 col0\" >0</th>\n",
       "      <th id=\"T_b6c76_level0_col1\" class=\"col_heading level0 col1\" >1</th>\n",
       "      <th id=\"T_b6c76_level0_col2\" class=\"col_heading level0 col2\" >2</th>\n",
       "      <th id=\"T_b6c76_level0_col3\" class=\"col_heading level0 col3\" >3</th>\n",
       "      <th id=\"T_b6c76_level0_col4\" class=\"col_heading level0 col4\" >4</th>\n",
       "      <th id=\"T_b6c76_level0_col5\" class=\"col_heading level0 col5\" >5</th>\n",
       "      <th id=\"T_b6c76_level0_col6\" class=\"col_heading level0 col6\" >6</th>\n",
       "      <th id=\"T_b6c76_level0_col7\" class=\"col_heading level0 col7\" >7</th>\n",
       "      <th id=\"T_b6c76_level0_col8\" class=\"col_heading level0 col8\" >8</th>\n",
       "      <th id=\"T_b6c76_level0_col9\" class=\"col_heading level0 col9\" >9</th>\n",
       "    </tr>\n",
       "  </thead>\n",
       "  <tbody>\n",
       "    <tr>\n",
       "      <th id=\"T_b6c76_level0_row0\" class=\"row_heading level0 row0\" >0</th>\n",
       "      <td id=\"T_b6c76_row0_col0\" class=\"data row0 col0\" >0.274645</td>\n",
       "      <td id=\"T_b6c76_row0_col1\" class=\"data row0 col1\" >0.054195</td>\n",
       "      <td id=\"T_b6c76_row0_col2\" class=\"data row0 col2\" >1.184974</td>\n",
       "      <td id=\"T_b6c76_row0_col3\" class=\"data row0 col3\" >0.657261</td>\n",
       "      <td id=\"T_b6c76_row0_col4\" class=\"data row0 col4\" >0.751485</td>\n",
       "      <td id=\"T_b6c76_row0_col5\" class=\"data row0 col5\" >0.608267</td>\n",
       "      <td id=\"T_b6c76_row0_col6\" class=\"data row0 col6\" >-1.149277</td>\n",
       "      <td id=\"T_b6c76_row0_col7\" class=\"data row0 col7\" >1.050883</td>\n",
       "      <td id=\"T_b6c76_row0_col8\" class=\"data row0 col8\" >0.341560</td>\n",
       "      <td id=\"T_b6c76_row0_col9\" class=\"data row0 col9\" >-0.771603</td>\n",
       "    </tr>\n",
       "    <tr>\n",
       "      <th id=\"T_b6c76_level0_row1\" class=\"row_heading level0 row1\" >1</th>\n",
       "      <td id=\"T_b6c76_row1_col0\" class=\"data row1 col0\" >1.148414</td>\n",
       "      <td id=\"T_b6c76_row1_col1\" class=\"data row1 col1\" >-0.073854</td>\n",
       "      <td id=\"T_b6c76_row1_col2\" class=\"data row1 col2\" >-0.276243</td>\n",
       "      <td id=\"T_b6c76_row1_col3\" class=\"data row1 col3\" >1.613408</td>\n",
       "      <td id=\"T_b6c76_row1_col4\" class=\"data row1 col4\" >-0.499394</td>\n",
       "      <td id=\"T_b6c76_row1_col5\" class=\"data row1 col5\" >1.685214</td>\n",
       "      <td id=\"T_b6c76_row1_col6\" class=\"data row1 col6\" >1.290909</td>\n",
       "      <td id=\"T_b6c76_row1_col7\" class=\"data row1 col7\" >1.562130</td>\n",
       "      <td id=\"T_b6c76_row1_col8\" class=\"data row1 col8\" >0.487491</td>\n",
       "      <td id=\"T_b6c76_row1_col9\" class=\"data row1 col9\" >-0.296158</td>\n",
       "    </tr>\n",
       "    <tr>\n",
       "      <th id=\"T_b6c76_level0_row2\" class=\"row_heading level0 row2\" >2</th>\n",
       "      <td id=\"T_b6c76_row2_col0\" class=\"data row2 col0\" >-1.129029</td>\n",
       "      <td id=\"T_b6c76_row2_col1\" class=\"data row2 col1\" >-0.400098</td>\n",
       "      <td id=\"T_b6c76_row2_col2\" class=\"data row2 col2\" >-0.027120</td>\n",
       "      <td id=\"T_b6c76_row2_col3\" class=\"data row2 col3\" >-0.720439</td>\n",
       "      <td id=\"T_b6c76_row2_col4\" class=\"data row2 col4\" >-0.028992</td>\n",
       "      <td id=\"T_b6c76_row2_col5\" class=\"data row2 col5\" >-0.120018</td>\n",
       "      <td id=\"T_b6c76_row2_col6\" class=\"data row2 col6\" >0.235700</td>\n",
       "      <td id=\"T_b6c76_row2_col7\" class=\"data row2 col7\" >0.106658</td>\n",
       "      <td id=\"T_b6c76_row2_col8\" class=\"data row2 col8\" >-1.461035</td>\n",
       "      <td id=\"T_b6c76_row2_col9\" class=\"data row2 col9\" >-1.430854</td>\n",
       "    </tr>\n",
       "    <tr>\n",
       "      <th id=\"T_b6c76_level0_row3\" class=\"row_heading level0 row3\" >3</th>\n",
       "      <td id=\"T_b6c76_row3_col0\" class=\"data row3 col0\" >0.615867</td>\n",
       "      <td id=\"T_b6c76_row3_col1\" class=\"data row3 col1\" >-0.612678</td>\n",
       "      <td id=\"T_b6c76_row3_col2\" class=\"data row3 col2\" >-0.249385</td>\n",
       "      <td id=\"T_b6c76_row3_col3\" class=\"data row3 col3\" >0.618866</td>\n",
       "      <td id=\"T_b6c76_row3_col4\" class=\"data row3 col4\" >-0.702845</td>\n",
       "      <td id=\"T_b6c76_row3_col5\" class=\"data row3 col5\" >1.394732</td>\n",
       "      <td id=\"T_b6c76_row3_col6\" class=\"data row3 col6\" >-0.500624</td>\n",
       "      <td id=\"T_b6c76_row3_col7\" class=\"data row3 col7\" >-1.038793</td>\n",
       "      <td id=\"T_b6c76_row3_col8\" class=\"data row3 col8\" >-2.011865</td>\n",
       "      <td id=\"T_b6c76_row3_col9\" class=\"data row3 col9\" >0.037732</td>\n",
       "    </tr>\n",
       "    <tr>\n",
       "      <th id=\"T_b6c76_level0_row4\" class=\"row_heading level0 row4\" >4</th>\n",
       "      <td id=\"T_b6c76_row4_col0\" class=\"data row4 col0\" >-0.211569</td>\n",
       "      <td id=\"T_b6c76_row4_col1\" class=\"data row4 col1\" >1.537246</td>\n",
       "      <td id=\"T_b6c76_row4_col2\" class=\"data row4 col2\" >0.253789</td>\n",
       "      <td id=\"T_b6c76_row4_col3\" class=\"data row4 col3\" >1.865654</td>\n",
       "      <td id=\"T_b6c76_row4_col4\" class=\"data row4 col4\" >-1.110330</td>\n",
       "      <td id=\"T_b6c76_row4_col5\" class=\"data row4 col5\" >0.437503</td>\n",
       "      <td id=\"T_b6c76_row4_col6\" class=\"data row4 col6\" >-2.162544</td>\n",
       "      <td id=\"T_b6c76_row4_col7\" class=\"data row4 col7\" >-1.108017</td>\n",
       "      <td id=\"T_b6c76_row4_col8\" class=\"data row4 col8\" >-1.850603</td>\n",
       "      <td id=\"T_b6c76_row4_col9\" class=\"data row4 col9\" >-1.979469</td>\n",
       "    </tr>\n",
       "    <tr>\n",
       "      <th id=\"T_b6c76_level0_row5\" class=\"row_heading level0 row5\" >5</th>\n",
       "      <td id=\"T_b6c76_row5_col0\" class=\"data row5 col0\" >0.095074</td>\n",
       "      <td id=\"T_b6c76_row5_col1\" class=\"data row5 col1\" >-1.006410</td>\n",
       "      <td id=\"T_b6c76_row5_col2\" class=\"data row5 col2\" >-0.006899</td>\n",
       "      <td id=\"T_b6c76_row5_col3\" class=\"data row5 col3\" >1.615863</td>\n",
       "      <td id=\"T_b6c76_row5_col4\" class=\"data row5 col4\" >-0.473912</td>\n",
       "      <td id=\"T_b6c76_row5_col5\" class=\"data row5 col5\" >-1.799691</td>\n",
       "      <td id=\"T_b6c76_row5_col6\" class=\"data row5 col6\" >1.000731</td>\n",
       "      <td id=\"T_b6c76_row5_col7\" class=\"data row5 col7\" >0.667075</td>\n",
       "      <td id=\"T_b6c76_row5_col8\" class=\"data row5 col8\" >-0.619511</td>\n",
       "      <td id=\"T_b6c76_row5_col9\" class=\"data row5 col9\" >-0.202279</td>\n",
       "    </tr>\n",
       "    <tr>\n",
       "      <th id=\"T_b6c76_level0_row6\" class=\"row_heading level0 row6\" >6</th>\n",
       "      <td id=\"T_b6c76_row6_col0\" class=\"data row6 col0\" >0.608915</td>\n",
       "      <td id=\"T_b6c76_row6_col1\" class=\"data row6 col1\" >1.070560</td>\n",
       "      <td id=\"T_b6c76_row6_col2\" class=\"data row6 col2\" >0.987439</td>\n",
       "      <td id=\"T_b6c76_row6_col3\" class=\"data row6 col3\" >-1.515895</td>\n",
       "      <td id=\"T_b6c76_row6_col4\" class=\"data row6 col4\" >1.230456</td>\n",
       "      <td id=\"T_b6c76_row6_col5\" class=\"data row6 col5\" >-0.706110</td>\n",
       "      <td id=\"T_b6c76_row6_col6\" class=\"data row6 col6\" >0.964794</td>\n",
       "      <td id=\"T_b6c76_row6_col7\" class=\"data row6 col7\" >-1.397953</td>\n",
       "      <td id=\"T_b6c76_row6_col8\" class=\"data row6 col8\" >1.302265</td>\n",
       "      <td id=\"T_b6c76_row6_col9\" class=\"data row6 col9\" >0.166506</td>\n",
       "    </tr>\n",
       "    <tr>\n",
       "      <th id=\"T_b6c76_level0_row7\" class=\"row_heading level0 row7\" >7</th>\n",
       "      <td id=\"T_b6c76_row7_col0\" class=\"data row7 col0\" >-0.289311</td>\n",
       "      <td id=\"T_b6c76_row7_col1\" class=\"data row7 col1\" >-0.461194</td>\n",
       "      <td id=\"T_b6c76_row7_col2\" class=\"data row7 col2\" >0.170419</td>\n",
       "      <td id=\"T_b6c76_row7_col3\" class=\"data row7 col3\" >-0.420983</td>\n",
       "      <td id=\"T_b6c76_row7_col4\" class=\"data row7 col4\" >-1.334689</td>\n",
       "      <td id=\"T_b6c76_row7_col5\" class=\"data row7 col5\" >0.713710</td>\n",
       "      <td id=\"T_b6c76_row7_col6\" class=\"data row7 col6\" >-0.289153</td>\n",
       "      <td id=\"T_b6c76_row7_col7\" class=\"data row7 col7\" >0.009787</td>\n",
       "      <td id=\"T_b6c76_row7_col8\" class=\"data row7 col8\" >-0.167900</td>\n",
       "      <td id=\"T_b6c76_row7_col9\" class=\"data row7 col9\" >-0.451710</td>\n",
       "    </tr>\n",
       "    <tr>\n",
       "      <th id=\"T_b6c76_level0_row8\" class=\"row_heading level0 row8\" >8</th>\n",
       "      <td id=\"T_b6c76_row8_col0\" class=\"data row8 col0\" >-0.000607</td>\n",
       "      <td id=\"T_b6c76_row8_col1\" class=\"data row8 col1\" >0.700656</td>\n",
       "      <td id=\"T_b6c76_row8_col2\" class=\"data row8 col2\" >-0.061327</td>\n",
       "      <td id=\"T_b6c76_row8_col3\" class=\"data row8 col3\" >0.708940</td>\n",
       "      <td id=\"T_b6c76_row8_col4\" class=\"data row8 col4\" >0.042656</td>\n",
       "      <td id=\"T_b6c76_row8_col5\" class=\"data row8 col5\" >1.340283</td>\n",
       "      <td id=\"T_b6c76_row8_col6\" class=\"data row8 col6\" >1.303150</td>\n",
       "      <td id=\"T_b6c76_row8_col7\" class=\"data row8 col7\" >-0.172068</td>\n",
       "      <td id=\"T_b6c76_row8_col8\" class=\"data row8 col8\" >0.123950</td>\n",
       "      <td id=\"T_b6c76_row8_col9\" class=\"data row8 col9\" >-0.061139</td>\n",
       "    </tr>\n",
       "    <tr>\n",
       "      <th id=\"T_b6c76_level0_row9\" class=\"row_heading level0 row9\" >9</th>\n",
       "      <td id=\"T_b6c76_row9_col0\" class=\"data row9 col0\" >-0.523114</td>\n",
       "      <td id=\"T_b6c76_row9_col1\" class=\"data row9 col1\" >-0.435326</td>\n",
       "      <td id=\"T_b6c76_row9_col2\" class=\"data row9 col2\" >0.990736</td>\n",
       "      <td id=\"T_b6c76_row9_col3\" class=\"data row9 col3\" >0.712194</td>\n",
       "      <td id=\"T_b6c76_row9_col4\" class=\"data row9 col4\" >-1.249389</td>\n",
       "      <td id=\"T_b6c76_row9_col5\" class=\"data row9 col5\" >-0.693146</td>\n",
       "      <td id=\"T_b6c76_row9_col6\" class=\"data row9 col6\" >0.279789</td>\n",
       "      <td id=\"T_b6c76_row9_col7\" class=\"data row9 col7\" >-0.240840</td>\n",
       "      <td id=\"T_b6c76_row9_col8\" class=\"data row9 col8\" >-1.364430</td>\n",
       "      <td id=\"T_b6c76_row9_col9\" class=\"data row9 col9\" >1.029431</td>\n",
       "    </tr>\n",
       "  </tbody>\n",
       "</table>\n"
      ],
      "text/plain": [
       "<pandas.io.formats.style.Styler at 0x11ba3c0d0>"
      ]
     },
     "execution_count": 41,
     "metadata": {},
     "output_type": "execute_result"
    }
   ],
   "source": [
    "(\n",
    "    df.style\n",
    "    .applymap(color_negative_red)  # applymap occurs for each element\n",
    "    .apply(highlight_max, axis=1) # apply with `axis=1` works at the row level\n",
    ")"
   ]
  },
  {
   "cell_type": "code",
   "execution_count": null,
   "id": "64559f5e",
   "metadata": {},
   "outputs": [],
   "source": []
  }
 ],
 "metadata": {
  "kernelspec": {
   "display_name": "Python 3 (ipykernel)",
   "language": "python",
   "name": "python3"
  },
  "language_info": {
   "codemirror_mode": {
    "name": "ipython",
    "version": 3
   },
   "file_extension": ".py",
   "mimetype": "text/x-python",
   "name": "python",
   "nbconvert_exporter": "python",
   "pygments_lexer": "ipython3",
   "version": "3.9.16"
  }
 },
 "nbformat": 4,
 "nbformat_minor": 5
}
